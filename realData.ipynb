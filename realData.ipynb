{
 "cells": [
  {
   "cell_type": "code",
   "execution_count": null,
   "metadata": {},
   "outputs": [],
   "source": [
    "%load_ext autoreload\n",
    "%autoreload 2\n",
    "\n",
    "import numpy as np\n",
    "from omegaconf import OmegaConf\n",
    "from src.models import models\n",
    "from src.models import model as mainmodel\n",
    "from src.models import modelConv2d\n",
    "from src.models import modelineal\n",
    "from src.models import decoders\n",
    "from src import loss_func\n",
    "from src import train\n",
    "from src import loader\n",
    "import matplotlib.pyplot as plt\n",
    "import torch\n",
    "import torch.nn as nn\n",
    "from src import optimizer_Factory as of\n",
    "import Data.genData as genData\n",
    "from src import custom_plots as cp\n",
    "from src import Visual_utils as vu\n",
    "import torchvision\n",
    "import wandb\n",
    "import random\n",
    "import os\n",
    "\n",
    "from scipy.signal import savgol_filter\n",
    "\n",
    "\n",
    "os.environ[\"PYTORCH_CUDA_ALLOC_CONF\"] = \"max_split_size_mb:2000\"\n",
    "torch.cuda.empty_cache() \n",
    "torch.manual_seed(42)"
   ]
  },
  {
   "cell_type": "markdown",
   "metadata": {},
   "source": [
    "## Create Dataset"
   ]
  },
  {
   "cell_type": "code",
   "execution_count": null,
   "metadata": {},
   "outputs": [],
   "source": [
    "import cv2\n",
    "\n",
    "# load video from folder using opencv\n",
    "video = cv2.VideoCapture('Data/15cm65g30deg.mov')\n",
    "frames = []\n",
    "while True:\n",
    "    ret, frame = video.read()\n",
    "    if ret == False:\n",
    "        break\n",
    "    frame = cv2.cvtColor(frame, cv2.COLOR_BGR2GRAY)\n",
    "    frames.append(frame)\n",
    "video.release()\n",
    "print(len(frames))"
   ]
  },
  {
   "cell_type": "code",
   "execution_count": null,
   "metadata": {},
   "outputs": [],
   "source": [
    "dataset = []\n",
    "np_frames = np.array(frames)\n",
    "\n",
    "nframes_per_sample = 30\n",
    "total_samples = 5000\n",
    "for i in range(total_samples):\n",
    "\n",
    "    frames_temp = np_frames[i:i+nframes_per_sample]\n",
    "    \n",
    "    dataset.append(np.expand_dims( frames_temp, axis=1))\n",
    "\n",
    "dataset = np.array(dataset)\n",
    "print(dataset.shape)"
   ]
  },
  {
   "cell_type": "code",
   "execution_count": null,
   "metadata": {},
   "outputs": [],
   "source": [
    "np.save('Data/name.npy', dataset)"
   ]
  },
  {
   "cell_type": "markdown",
   "metadata": {},
   "source": [
    "## Train Model"
   ]
  },
  {
   "cell_type": "code",
   "execution_count": null,
   "metadata": {},
   "outputs": [],
   "source": [
    "torch.cuda.empty_cache() \n",
    "torch.manual_seed(0)\n",
    "\n",
    "data_folder = np.load('Data/name.npy')\n",
    "data_train = data_folder\n",
    "print(data_train.shape)\n",
    "dt = 3/30\n",
    "train_dataloader, test_dataloader, train_x, val_x  = loader.getLoader_folder(data_train, split=True)\n",
    "\n",
    "\n",
    "\n",
    "\n",
    "latentEncoder_I = mainmodel.EndPhys(dt = dt,  \n",
    "                                pmodel = \"Damped_oscillation\",\n",
    "                                init_phys = 1.0, \n",
    "                                initw=True)\n",
    "\n",
    "latentEncoder_I, log, params  = train.train(latentEncoder_I, \n",
    "                                train_dataloader, \n",
    "                                test_dataloader,\n",
    "                                init_phys = 1.0,                                 \n",
    "                                loss_name='latent_loss')"
   ]
  },
  {
   "cell_type": "markdown",
   "metadata": {},
   "source": [
    "## visualize angle"
   ]
  },
  {
   "cell_type": "code",
   "execution_count": null,
   "metadata": {},
   "outputs": [],
   "source": [
    "dataloader  = loader.getLoader_folder(data_train, split=False)\n",
    "\n",
    "z = None\n",
    "\n",
    "device = \"cuda\" if torch.cuda.is_available() else \"cpu\"\n",
    "\n",
    "model = mainmodel.EndPhys(dt = dt,  \n",
    "                                pmodel = \"Damped_oscillation\",\n",
    "                                init_phys = 1.0, \n",
    "                                initw=True)\n",
    "\n",
    "model.load_state_dict(latentEncoder_I.state_dict())\n",
    "model.to(device)\n",
    "\n",
    "z = None\n",
    "X = []\n",
    "\n",
    "for data in dataloader:\n",
    "\n",
    "    input_Data, out_Data = data\n",
    "\n",
    "    x0 = input_Data\n",
    "\n",
    "    x0 = x0.to(device=device, dtype=torch.float)\n",
    "\n",
    "    x2 = out_Data.to(device=device, dtype=torch.float)\n",
    "\n",
    "    outputs = model(x0)\n",
    "    z2_encoder, z2_phys, z3=outputs\n",
    "\n",
    "    if z is None:\n",
    "        z = z2_encoder.detach().cpu().numpy()[0][0]\n",
    "    else:\n",
    "        z = np.vstack((z,z2_encoder.detach().cpu().numpy()[0][0]))"
   ]
  },
  {
   "cell_type": "code",
   "execution_count": null,
   "metadata": {},
   "outputs": [],
   "source": [
    "plt.figure(figsize=(20,5))\n",
    "time = np.arange(z.shape[0])\n",
    "plt.scatter(time*dt, z, label='real',s=4)\n",
    "plt.plot(time*dt, z, label='real')\n",
    "plt.xlabel('Time')\n",
    "plt.ylabel('Latent Space (angle)')\n",
    "plt.show()"
   ]
  }
 ],
 "metadata": {
  "language_info": {
   "name": "python"
  }
 },
 "nbformat": 4,
 "nbformat_minor": 2
}
